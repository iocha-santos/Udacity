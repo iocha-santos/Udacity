{
 "cells": [
  {
   "cell_type": "markdown",
   "metadata": {},
   "source": [
    "# Projeto Titanic - prática exploratória de analise utilizando Python e ensinamentos de Fundamentos Data Science I - Udacity. "
   ]
  },
  {
   "cell_type": "markdown",
   "metadata": {},
   "source": [
    "# Como objeto de estudos, a análise será focada nos seguintes questionamentos:\n",
    "1. Qual o % dos passageiros sobreviventes?\n",
    "2. Qual o % de sobreviventes por local de embarque?\n",
    "3. Qual a distribuição de sobreviventes por gênero por local de embarque?\n",
    "4. Local de embarque influenciou na probabilidade de sobrevivência?\n"
   ]
  },
  {
   "cell_type": "markdown",
   "metadata": {},
   "source": [
    "# Definindo os tipos de libraries a serem utilizadas"
   ]
  },
  {
   "cell_type": "code",
   "execution_count": 213,
   "metadata": {},
   "outputs": [],
   "source": [
    "import pandas as pd\n",
    "import numpy as np\n",
    "import matplotlib.pyplot as plt\n",
    "% matplotlib inline"
   ]
  },
  {
   "cell_type": "markdown",
   "metadata": {},
   "source": [
    "# 1- Carregando o arquivo original"
   ]
  },
  {
   "cell_type": "code",
   "execution_count": 214,
   "metadata": {},
   "outputs": [],
   "source": [
    "df_tit = pd.read_csv('titanic_data_6.csv')"
   ]
  },
  {
   "cell_type": "markdown",
   "metadata": {},
   "source": [
    "# Referencia de dados - by Kaggel"
   ]
  },
  {
   "cell_type": "markdown",
   "metadata": {},
   "source": [
    "VARIABLE DESCRIPTIONS:\n",
    "survival        Survival\n",
    "                (0 = No; 1 = Yes)\n",
    "pclass          Passenger Class\n",
    "                (1 = 1st; 2 = 2nd; 3 = 3rd)\n",
    "name            Name\n",
    "sex             Sex\n",
    "age             Age\n",
    "sibsp           Number of Siblings/Spouses Aboard\n",
    "parch           Number of Parents/Children Aboard\n",
    "ticket          Ticket Number\n",
    "fare            Passenger Fare\n",
    "cabin           Cabin\n",
    "embarked        Port of Embarkation\n",
    "                (C = Cherbourg; Q = Queenstown; S = Southampton)"
   ]
  },
  {
   "cell_type": "markdown",
   "metadata": {},
   "source": [
    "Referencias de sites:\n",
    "* https://www.kaggle.com/andyyang/titanic-survival-project\n",
    "* http://queirozf.com/entries/pandas-dataframe-groupby-examples\n",
    "* https://github.com/sadbut-1/data-science-titanic/blob/master/Projeto%202%20-%20Conclusao.ipynb\n",
    "* https://www.geeksforgeeks.org/python-pandas-dataframe-fillna-to-replace-null-values-in-dataframe/\n",
    "* https://www.kaggle.com/aliendev/example-of-pandas-dropna\n",
    "* https://github.com/Marcelo-Peres/Udacity-Projects/blob/master/Data%20Science%20I%20-%20Fundamentals/Project%2002/P2.ipynb\n"
   ]
  },
  {
   "cell_type": "markdown",
   "metadata": {},
   "source": [
    "# 2 - Entendo os dados"
   ]
  },
  {
   "cell_type": "code",
   "execution_count": 215,
   "metadata": {},
   "outputs": [
    {
     "data": {
      "text/plain": [
       "(891, 12)"
      ]
     },
     "execution_count": 215,
     "metadata": {},
     "output_type": "execute_result"
    }
   ],
   "source": [
    "#Identificação do tamanho do dataframe Titanic\n",
    "df_tit.shape"
   ]
  },
  {
   "cell_type": "code",
   "execution_count": 216,
   "metadata": {},
   "outputs": [
    {
     "name": "stdout",
     "output_type": "stream",
     "text": [
      "<class 'pandas.core.frame.DataFrame'>\n",
      "RangeIndex: 891 entries, 0 to 890\n",
      "Data columns (total 12 columns):\n",
      "PassengerId    891 non-null int64\n",
      "Survived       891 non-null int64\n",
      "Pclass         891 non-null int64\n",
      "Name           891 non-null object\n",
      "Sex            891 non-null object\n",
      "Age            714 non-null float64\n",
      "SibSp          891 non-null int64\n",
      "Parch          891 non-null int64\n",
      "Ticket         891 non-null object\n",
      "Fare           891 non-null float64\n",
      "Cabin          204 non-null object\n",
      "Embarked       889 non-null object\n",
      "dtypes: float64(2), int64(5), object(5)\n",
      "memory usage: 83.6+ KB\n"
     ]
    }
   ],
   "source": [
    "#Análise do tipos de dados conforme a coluna e contagem de dados preenchidos (não nulos)\n",
    "df_tit.info()"
   ]
  },
  {
   "cell_type": "markdown",
   "metadata": {},
   "source": [
    "A função .info() nos traz a contagem de dados por colunas e o tipo de dados de cada coluna, o que demonstra que \"Age\", \"Cabin\" e \" Embarked\" possuem dados incompletos. "
   ]
  },
  {
   "cell_type": "code",
   "execution_count": 217,
   "metadata": {},
   "outputs": [
    {
     "data": {
      "text/html": [
       "<div>\n",
       "<style scoped>\n",
       "    .dataframe tbody tr th:only-of-type {\n",
       "        vertical-align: middle;\n",
       "    }\n",
       "\n",
       "    .dataframe tbody tr th {\n",
       "        vertical-align: top;\n",
       "    }\n",
       "\n",
       "    .dataframe thead th {\n",
       "        text-align: right;\n",
       "    }\n",
       "</style>\n",
       "<table border=\"1\" class=\"dataframe\">\n",
       "  <thead>\n",
       "    <tr style=\"text-align: right;\">\n",
       "      <th></th>\n",
       "      <th>PassengerId</th>\n",
       "      <th>Survived</th>\n",
       "      <th>Pclass</th>\n",
       "      <th>Name</th>\n",
       "      <th>Sex</th>\n",
       "      <th>Age</th>\n",
       "      <th>SibSp</th>\n",
       "      <th>Parch</th>\n",
       "      <th>Ticket</th>\n",
       "      <th>Fare</th>\n",
       "      <th>Cabin</th>\n",
       "      <th>Embarked</th>\n",
       "    </tr>\n",
       "  </thead>\n",
       "  <tbody>\n",
       "    <tr>\n",
       "      <th>0</th>\n",
       "      <td>1</td>\n",
       "      <td>0</td>\n",
       "      <td>3</td>\n",
       "      <td>Braund, Mr. Owen Harris</td>\n",
       "      <td>male</td>\n",
       "      <td>22.0</td>\n",
       "      <td>1</td>\n",
       "      <td>0</td>\n",
       "      <td>A/5 21171</td>\n",
       "      <td>7.2500</td>\n",
       "      <td>NaN</td>\n",
       "      <td>S</td>\n",
       "    </tr>\n",
       "    <tr>\n",
       "      <th>1</th>\n",
       "      <td>2</td>\n",
       "      <td>1</td>\n",
       "      <td>1</td>\n",
       "      <td>Cumings, Mrs. John Bradley (Florence Briggs Th...</td>\n",
       "      <td>female</td>\n",
       "      <td>38.0</td>\n",
       "      <td>1</td>\n",
       "      <td>0</td>\n",
       "      <td>PC 17599</td>\n",
       "      <td>71.2833</td>\n",
       "      <td>C85</td>\n",
       "      <td>C</td>\n",
       "    </tr>\n",
       "    <tr>\n",
       "      <th>2</th>\n",
       "      <td>3</td>\n",
       "      <td>1</td>\n",
       "      <td>3</td>\n",
       "      <td>Heikkinen, Miss. Laina</td>\n",
       "      <td>female</td>\n",
       "      <td>26.0</td>\n",
       "      <td>0</td>\n",
       "      <td>0</td>\n",
       "      <td>STON/O2. 3101282</td>\n",
       "      <td>7.9250</td>\n",
       "      <td>NaN</td>\n",
       "      <td>S</td>\n",
       "    </tr>\n",
       "    <tr>\n",
       "      <th>3</th>\n",
       "      <td>4</td>\n",
       "      <td>1</td>\n",
       "      <td>1</td>\n",
       "      <td>Futrelle, Mrs. Jacques Heath (Lily May Peel)</td>\n",
       "      <td>female</td>\n",
       "      <td>35.0</td>\n",
       "      <td>1</td>\n",
       "      <td>0</td>\n",
       "      <td>113803</td>\n",
       "      <td>53.1000</td>\n",
       "      <td>C123</td>\n",
       "      <td>S</td>\n",
       "    </tr>\n",
       "    <tr>\n",
       "      <th>4</th>\n",
       "      <td>5</td>\n",
       "      <td>0</td>\n",
       "      <td>3</td>\n",
       "      <td>Allen, Mr. William Henry</td>\n",
       "      <td>male</td>\n",
       "      <td>35.0</td>\n",
       "      <td>0</td>\n",
       "      <td>0</td>\n",
       "      <td>373450</td>\n",
       "      <td>8.0500</td>\n",
       "      <td>NaN</td>\n",
       "      <td>S</td>\n",
       "    </tr>\n",
       "  </tbody>\n",
       "</table>\n",
       "</div>"
      ],
      "text/plain": [
       "   PassengerId  Survived  Pclass  \\\n",
       "0            1         0       3   \n",
       "1            2         1       1   \n",
       "2            3         1       3   \n",
       "3            4         1       1   \n",
       "4            5         0       3   \n",
       "\n",
       "                                                Name     Sex   Age  SibSp  \\\n",
       "0                            Braund, Mr. Owen Harris    male  22.0      1   \n",
       "1  Cumings, Mrs. John Bradley (Florence Briggs Th...  female  38.0      1   \n",
       "2                             Heikkinen, Miss. Laina  female  26.0      0   \n",
       "3       Futrelle, Mrs. Jacques Heath (Lily May Peel)  female  35.0      1   \n",
       "4                           Allen, Mr. William Henry    male  35.0      0   \n",
       "\n",
       "   Parch            Ticket     Fare Cabin Embarked  \n",
       "0      0         A/5 21171   7.2500   NaN        S  \n",
       "1      0          PC 17599  71.2833   C85        C  \n",
       "2      0  STON/O2. 3101282   7.9250   NaN        S  \n",
       "3      0            113803  53.1000  C123        S  \n",
       "4      0            373450   8.0500   NaN        S  "
      ]
     },
     "execution_count": 217,
     "metadata": {},
     "output_type": "execute_result"
    }
   ],
   "source": [
    "#Função para visualização das 4 primeiras linhas e cabeçalho para validação de informações.\n",
    "df_tit.head()"
   ]
  },
  {
   "cell_type": "markdown",
   "metadata": {},
   "source": [
    "Para facilitar as análises, vamos descartar alguns dados que não serão utilizados:\n",
    "'Name' , 'SibSp' , 'Parch' , 'Ticket', 'Fare','Cabin'"
   ]
  },
  {
   "cell_type": "code",
   "execution_count": 218,
   "metadata": {},
   "outputs": [],
   "source": [
    "# descarte colunas do conjunto de dados em novo df\n",
    "df_tits = df_tit.drop(['Name', 'SibSp', 'Parch', 'Ticket' , 'Fare','Cabin'], axis=1)\n"
   ]
  },
  {
   "cell_type": "code",
   "execution_count": 219,
   "metadata": {},
   "outputs": [
    {
     "data": {
      "text/html": [
       "<div>\n",
       "<style scoped>\n",
       "    .dataframe tbody tr th:only-of-type {\n",
       "        vertical-align: middle;\n",
       "    }\n",
       "\n",
       "    .dataframe tbody tr th {\n",
       "        vertical-align: top;\n",
       "    }\n",
       "\n",
       "    .dataframe thead th {\n",
       "        text-align: right;\n",
       "    }\n",
       "</style>\n",
       "<table border=\"1\" class=\"dataframe\">\n",
       "  <thead>\n",
       "    <tr style=\"text-align: right;\">\n",
       "      <th></th>\n",
       "      <th>PassengerId</th>\n",
       "      <th>Survived</th>\n",
       "      <th>Pclass</th>\n",
       "      <th>Sex</th>\n",
       "      <th>Age</th>\n",
       "      <th>Embarked</th>\n",
       "    </tr>\n",
       "  </thead>\n",
       "  <tbody>\n",
       "    <tr>\n",
       "      <th>0</th>\n",
       "      <td>1</td>\n",
       "      <td>0</td>\n",
       "      <td>3</td>\n",
       "      <td>male</td>\n",
       "      <td>22.0</td>\n",
       "      <td>S</td>\n",
       "    </tr>\n",
       "    <tr>\n",
       "      <th>1</th>\n",
       "      <td>2</td>\n",
       "      <td>1</td>\n",
       "      <td>1</td>\n",
       "      <td>female</td>\n",
       "      <td>38.0</td>\n",
       "      <td>C</td>\n",
       "    </tr>\n",
       "    <tr>\n",
       "      <th>2</th>\n",
       "      <td>3</td>\n",
       "      <td>1</td>\n",
       "      <td>3</td>\n",
       "      <td>female</td>\n",
       "      <td>26.0</td>\n",
       "      <td>S</td>\n",
       "    </tr>\n",
       "    <tr>\n",
       "      <th>3</th>\n",
       "      <td>4</td>\n",
       "      <td>1</td>\n",
       "      <td>1</td>\n",
       "      <td>female</td>\n",
       "      <td>35.0</td>\n",
       "      <td>S</td>\n",
       "    </tr>\n",
       "    <tr>\n",
       "      <th>4</th>\n",
       "      <td>5</td>\n",
       "      <td>0</td>\n",
       "      <td>3</td>\n",
       "      <td>male</td>\n",
       "      <td>35.0</td>\n",
       "      <td>S</td>\n",
       "    </tr>\n",
       "  </tbody>\n",
       "</table>\n",
       "</div>"
      ],
      "text/plain": [
       "   PassengerId  Survived  Pclass     Sex   Age Embarked\n",
       "0            1         0       3    male  22.0        S\n",
       "1            2         1       1  female  38.0        C\n",
       "2            3         1       3  female  26.0        S\n",
       "3            4         1       1  female  35.0        S\n",
       "4            5         0       3    male  35.0        S"
      ]
     },
     "execution_count": 219,
     "metadata": {},
     "output_type": "execute_result"
    }
   ],
   "source": [
    "#Check de elimanação de dados no df de recorte\n",
    "df_tits.head()"
   ]
  },
  {
   "cell_type": "markdown",
   "metadata": {},
   "source": [
    "Para facilitar a análise, a troca do cabeçalho"
   ]
  },
  {
   "cell_type": "code",
   "execution_count": 220,
   "metadata": {},
   "outputs": [],
   "source": [
    "# manter todos os nomes em minusculo e com referencias em Portugues\n",
    "df_tits.rename(columns=lambda x: x.strip().lower(), inplace=True)\n",
    "df_tits.rename(columns={\"passengerid\": \"id_passageiro\", \"survived\":\"sobrevida\", \n",
    "                        \"pclass\":\"classe\", \"sex\":\"genero\", \"age\":\"idade\", \"embarked\":\"local\"}, inplace=True)"
   ]
  },
  {
   "cell_type": "code",
   "execution_count": 221,
   "metadata": {},
   "outputs": [
    {
     "data": {
      "text/html": [
       "<div>\n",
       "<style scoped>\n",
       "    .dataframe tbody tr th:only-of-type {\n",
       "        vertical-align: middle;\n",
       "    }\n",
       "\n",
       "    .dataframe tbody tr th {\n",
       "        vertical-align: top;\n",
       "    }\n",
       "\n",
       "    .dataframe thead th {\n",
       "        text-align: right;\n",
       "    }\n",
       "</style>\n",
       "<table border=\"1\" class=\"dataframe\">\n",
       "  <thead>\n",
       "    <tr style=\"text-align: right;\">\n",
       "      <th></th>\n",
       "      <th>id_passageiro</th>\n",
       "      <th>sobrevida</th>\n",
       "      <th>classe</th>\n",
       "      <th>genero</th>\n",
       "      <th>idade</th>\n",
       "      <th>local</th>\n",
       "    </tr>\n",
       "  </thead>\n",
       "  <tbody>\n",
       "    <tr>\n",
       "      <th>0</th>\n",
       "      <td>1</td>\n",
       "      <td>0</td>\n",
       "      <td>3</td>\n",
       "      <td>male</td>\n",
       "      <td>22.0</td>\n",
       "      <td>S</td>\n",
       "    </tr>\n",
       "  </tbody>\n",
       "</table>\n",
       "</div>"
      ],
      "text/plain": [
       "   id_passageiro  sobrevida  classe genero  idade local\n",
       "0              1          0       3   male   22.0     S"
      ]
     },
     "execution_count": 221,
     "metadata": {},
     "output_type": "execute_result"
    }
   ],
   "source": [
    "#Visualização do dataframe utilizado\n",
    "df_tits.head(1)"
   ]
  },
  {
   "cell_type": "code",
   "execution_count": 222,
   "metadata": {},
   "outputs": [
    {
     "name": "stdout",
     "output_type": "stream",
     "text": [
      "<class 'pandas.core.frame.DataFrame'>\n",
      "RangeIndex: 891 entries, 0 to 890\n",
      "Data columns (total 6 columns):\n",
      "id_passageiro    891 non-null int64\n",
      "sobrevida        891 non-null int64\n",
      "classe           891 non-null int64\n",
      "genero           891 non-null object\n",
      "idade            714 non-null float64\n",
      "local            889 non-null object\n",
      "dtypes: float64(1), int64(3), object(2)\n",
      "memory usage: 41.8+ KB\n"
     ]
    }
   ],
   "source": [
    "df_tits.info()"
   ]
  },
  {
   "cell_type": "markdown",
   "metadata": {},
   "source": [
    "# 3 -Tratando dados"
   ]
  },
  {
   "cell_type": "code",
   "execution_count": 223,
   "metadata": {},
   "outputs": [
    {
     "data": {
      "text/plain": [
       "id_passageiro      0\n",
       "sobrevida          0\n",
       "classe             0\n",
       "genero             0\n",
       "idade            177\n",
       "local              2\n",
       "dtype: int64"
      ]
     },
     "execution_count": 223,
     "metadata": {},
     "output_type": "execute_result"
    }
   ],
   "source": [
    "#identificando colunas com valores nulos\n",
    "df_tits.isnull().sum()"
   ]
  },
  {
   "cell_type": "code",
   "execution_count": 224,
   "metadata": {},
   "outputs": [],
   "source": [
    "#Para fins de análise, vamos ignorar as linhas que possuem dados em branco na coluna \"local\".\n",
    "df_tits.dropna(axis=0, subset=['local'], inplace = True) "
   ]
  },
  {
   "cell_type": "code",
   "execution_count": 225,
   "metadata": {},
   "outputs": [
    {
     "data": {
      "text/plain": [
       "id_passageiro      0\n",
       "sobrevida          0\n",
       "classe             0\n",
       "genero             0\n",
       "idade            177\n",
       "local              0\n",
       "dtype: int64"
      ]
     },
     "execution_count": 225,
     "metadata": {},
     "output_type": "execute_result"
    }
   ],
   "source": [
    "#check para confirmar operação de descarte de linhas com coluna \"local\" nulo.\n",
    "df_tits.isnull().sum()"
   ]
  },
  {
   "cell_type": "code",
   "execution_count": 226,
   "metadata": {},
   "outputs": [],
   "source": [
    "#Para fins de análise, vamos assumir a média de 'idade' nas linhas que possuem dados nulos.\n",
    "df_tits['idade'].fillna((df_tits['idade'].mean()), inplace=True)"
   ]
  },
  {
   "cell_type": "code",
   "execution_count": 227,
   "metadata": {},
   "outputs": [
    {
     "data": {
      "text/plain": [
       "id_passageiro    0\n",
       "sobrevida        0\n",
       "classe           0\n",
       "genero           0\n",
       "idade            0\n",
       "local            0\n",
       "dtype: int64"
      ]
     },
     "execution_count": 227,
     "metadata": {},
     "output_type": "execute_result"
    }
   ],
   "source": [
    "#check para confirmar operação de descarte de linhas com coluna \"local\" nulo.\n",
    "df_tits.isnull().sum()"
   ]
  },
  {
   "cell_type": "code",
   "execution_count": 228,
   "metadata": {},
   "outputs": [],
   "source": [
    "#Renome das referencias dos locais de embarque pelos nomes completos de cada porto utilizado\n",
    "df_tits['local'] = df_tits['local'].str.replace(\"S\", \"Southampton\").replace(\"C\",\"Cherbourg\").replace(\"Q\",\"Queenstown\")"
   ]
  },
  {
   "cell_type": "code",
   "execution_count": 229,
   "metadata": {},
   "outputs": [
    {
     "data": {
      "text/html": [
       "<div>\n",
       "<style scoped>\n",
       "    .dataframe tbody tr th:only-of-type {\n",
       "        vertical-align: middle;\n",
       "    }\n",
       "\n",
       "    .dataframe tbody tr th {\n",
       "        vertical-align: top;\n",
       "    }\n",
       "\n",
       "    .dataframe thead th {\n",
       "        text-align: right;\n",
       "    }\n",
       "</style>\n",
       "<table border=\"1\" class=\"dataframe\">\n",
       "  <thead>\n",
       "    <tr style=\"text-align: right;\">\n",
       "      <th></th>\n",
       "      <th>id_passageiro</th>\n",
       "      <th>sobrevida</th>\n",
       "      <th>classe</th>\n",
       "      <th>genero</th>\n",
       "      <th>idade</th>\n",
       "      <th>local</th>\n",
       "    </tr>\n",
       "  </thead>\n",
       "  <tbody>\n",
       "    <tr>\n",
       "      <th>0</th>\n",
       "      <td>1</td>\n",
       "      <td>0</td>\n",
       "      <td>3</td>\n",
       "      <td>male</td>\n",
       "      <td>22.0</td>\n",
       "      <td>Southampton</td>\n",
       "    </tr>\n",
       "    <tr>\n",
       "      <th>1</th>\n",
       "      <td>2</td>\n",
       "      <td>1</td>\n",
       "      <td>1</td>\n",
       "      <td>female</td>\n",
       "      <td>38.0</td>\n",
       "      <td>Cherbourg</td>\n",
       "    </tr>\n",
       "  </tbody>\n",
       "</table>\n",
       "</div>"
      ],
      "text/plain": [
       "   id_passageiro  sobrevida  classe  genero  idade        local\n",
       "0              1          0       3    male   22.0  Southampton\n",
       "1              2          1       1  female   38.0    Cherbourg"
      ]
     },
     "execution_count": 229,
     "metadata": {},
     "output_type": "execute_result"
    }
   ],
   "source": [
    "#Visualização do dataframe utilizado\n",
    "df_tits.head(2)"
   ]
  },
  {
   "cell_type": "markdown",
   "metadata": {},
   "source": [
    "# Visualizando dados básicos"
   ]
  },
  {
   "cell_type": "markdown",
   "metadata": {},
   "source": [
    "Visualizar os dados iniciais favorece a compreensão das hipoteses"
   ]
  },
  {
   "cell_type": "code",
   "execution_count": 230,
   "metadata": {},
   "outputs": [
    {
     "data": {
      "image/png": "[encoded data removed]",
      "text/plain": [
       "<Figure size 360x360 with 1 Axes>"
      ]
     },
     "metadata": {},
     "output_type": "display_data"
    }
   ],
   "source": [
    "#Grafico 1 - % de sobreviventes\n",
    "df_tits['sobrevida'].value_counts().plot.pie(colors=('tab:gray', 'tab:blue'), \n",
    "                                       title='Qual o percentual de sobreviventes?', \n",
    "                                       fontsize=13, shadow=True, startangle=210,autopct='%0.1f%%',\n",
    "                                       labels=('Mortos','Vivos'),\n",
    "                                       figsize=(5,5)).set_ylabel('');"
   ]
  },
  {
   "cell_type": "code",
   "execution_count": 231,
   "metadata": {},
   "outputs": [
    {
     "name": "stdout",
     "output_type": "stream",
     "text": [
      "Vivos  : 340\n",
      "Mortos : 549\n"
     ]
    }
   ],
   "source": [
    "print('Vivos  :', df_tits['sobrevida'].value_counts()[1])\n",
    "print('Mortos :', df_tits['sobrevida'].value_counts()[0])"
   ]
  },
  {
   "cell_type": "markdown",
   "metadata": {},
   "source": [
    "Grafco 1 - Apenas 38,2% dos passageiros considerados na amostra sobreviveram, sendo 340, dos 891 passegeiros referenciados no dataframe original."
   ]
  },
  {
   "cell_type": "markdown",
   "metadata": {},
   "source": [
    "Por Genero"
   ]
  },
  {
   "cell_type": "code",
   "execution_count": 232,
   "metadata": {},
   "outputs": [
    {
     "data": {
      "image/png": "[encoded data removed]",
      "text/plain": [
       "<Figure size 288x288 with 1 Axes>"
      ]
     },
     "metadata": {},
     "output_type": "display_data"
    }
   ],
   "source": [
    "#Grafico 2 - % de genero dos passageiros\n",
    "df_tits['genero'].value_counts().plot(kind='pie',\n",
    "                                      figsize=(4, 4),\n",
    "                                      title='Percentual Gênero',\n",
    "                                      colors=('blue','pink'),\n",
    "                                      autopct=('%1.1f%%'));"
   ]
  },
  {
   "cell_type": "code",
   "execution_count": 233,
   "metadata": {},
   "outputs": [
    {
     "name": "stdout",
     "output_type": "stream",
     "text": [
      "genero\n",
      "female    231\n",
      "male      109\n",
      "Name: sobrevida, dtype: int64\n"
     ]
    }
   ],
   "source": [
    "print(df_tits.groupby('genero')['sobrevida'].sum())"
   ]
  },
  {
   "cell_type": "markdown",
   "metadata": {},
   "source": [
    "Gráfico 2 - A contagem de dados nos demonstra que 233 passageiros são female (mulheres), representando 35,1%, sendo praticamente um terço de todos os embarcados listados."
   ]
  },
  {
   "cell_type": "markdown",
   "metadata": {},
   "source": [
    "# Definindo Funções de Plotagem"
   ]
  },
  {
   "cell_type": "code",
   "execution_count": 234,
   "metadata": {},
   "outputs": [],
   "source": [
    "# Definindo uma função para plotagem de gráfico em barras , com a variação entre count e sum.\n",
    "def plotbar(col1, col2, title1 , f1,  xlab, ylab):\n",
    "    if f1 == 1:\n",
    "        ax = df_tits.groupby(col1)[col2].sum().plot(kind='bar', title= title1)\n",
    "        ax.set_xlabel(xlab)\n",
    "        ax.set_ylabel(ylab)\n",
    "    else:\n",
    "        ax = df_tits.groupby(col1)[col2].count().plot(kind='bar', title= title1)\n",
    "        ax.set_xlabel(xlab)\n",
    "        ax.set_ylabel(ylab)\n"
   ]
  },
  {
   "cell_type": "code",
   "execution_count": 235,
   "metadata": {},
   "outputs": [],
   "source": [
    "#Definindo uma função para plotagem de gráfico em pizza , com a variação entre count e sum.\n",
    "def plotpie(col1, col2, title1 , f1 ):\n",
    "    if f1 == 1:\n",
    "        df_tits.groupby(col1)[col2].sum().plot(kind='pie', figsize=(4, 4), title= title1, autopct=('%0.2f%%'))\n",
    "    else:\n",
    "        df_tits.groupby(col1)[col2].count().plot(kind='pie', figsize=(4, 4), title= title1, autopct=('%0.2f%%'))        "
   ]
  },
  {
   "cell_type": "code",
   "execution_count": 236,
   "metadata": {},
   "outputs": [],
   "source": [
    "#Definindo uma função para plotagem de gráfico em barras , com a variação entre count e sum, considerando 3 colunas.\n",
    "def plotbar3(col1, col2, col3, title1 , f1, xlab, ylab):\n",
    "    if f1 == 1:\n",
    "        ax = df_tits.groupby([col1, col2])[col3].sum().unstack().plot(kind='bar',title= title1,stacked=True)\n",
    "        ax.set_xlabel(xlab)\n",
    "        ax.set_ylabel(ylab)        \n",
    "    else:\n",
    "        ax = df_tits.groupby([col1, col2])[col3].count().unstack().plot(kind='bar',title= title1,stacked=True)\n",
    "        ax.set_xlabel(xlab)\n",
    "        ax.set_ylabel(ylab)"
   ]
  },
  {
   "cell_type": "markdown",
   "metadata": {},
   "source": [
    "Plotagem de gráfico a partir das funções"
   ]
  },
  {
   "cell_type": "code",
   "execution_count": 239,
   "metadata": {},
   "outputs": [
    {
     "data": {
      "image/png": "[encoded data removed]",
      "text/plain": [
       "<Figure size 432x288 with 1 Axes>"
      ]
     },
     "metadata": {
      "needs_background": "light"
     },
     "output_type": "display_data"
    }
   ],
   "source": [
    "#Utilizando a função de gráfico de barras, com opção sum.\n",
    "# Como os dados de sobrevida estão mapeados em 0 ou 1, a soma representará a contagem dos sobreviventes apenas.\n",
    "\n",
    "#Gráfico 3 - Contagem de sobreviventes por genero\n",
    "plotbar ('genero','sobrevida','Sobreviventes por Gênero', 0 ,'Gênero', 'Contagem de Pessoas')"
   ]
  },
  {
   "cell_type": "markdown",
   "metadata": {},
   "source": [
    "Gráfico 1, 2 e 3 - A contagem de sobreviventes por genero, mostra que apesar da maioria de passageiros (64,8%) serem homens, dentre os sobreviventes 68% foram mulheres."
   ]
  },
  {
   "cell_type": "markdown",
   "metadata": {},
   "source": [
    "Por Classe"
   ]
  },
  {
   "cell_type": "code",
   "execution_count": 240,
   "metadata": {},
   "outputs": [
    {
     "data": {
      "image/png": "[encoded data removed]",
      "text/plain": [
       "<Figure size 288x288 with 1 Axes>"
      ]
     },
     "metadata": {},
     "output_type": "display_data"
    }
   ],
   "source": [
    "#Utilizando a função de gráfico de pizza, com opção count.\n",
    "# Como os dados de sobrevida estão mapeados em 0 ou 1, o count representará a contagem de todos os passageiros da amostra.\n",
    "\n",
    "#Grafico 4 - % de passageiros por classe\n",
    "plotpie('classe','sobrevida','Passageiros por Classe',0)"
   ]
  },
  {
   "cell_type": "markdown",
   "metadata": {},
   "source": [
    "Gráfico 4 - A análise por classe nos revela que mais de 75% dos embarcados eram de 2ª e 3ªclasse, sendo a última responsável por mais de 50% dos presentes."
   ]
  },
  {
   "cell_type": "code",
   "execution_count": 241,
   "metadata": {},
   "outputs": [
    {
     "data": {
      "image/png": "[encoded data removed]",
      "text/plain": [
       "<Figure size 288x288 with 1 Axes>"
      ]
     },
     "metadata": {},
     "output_type": "display_data"
    }
   ],
   "source": [
    "#Utilizando a função de gráfico de pizza, com opção sum.\n",
    "# Como os dados de sobrevida estão mapeados em 0 ou 1, a soma representará a contagem dos sobreviventes apenas.\n",
    "\n",
    "#Grafico 5 - % de sobreviventes por classe\n",
    "plotpie('classe','sobrevida','Sobreviventes por Classe',1)"
   ]
  },
  {
   "cell_type": "markdown",
   "metadata": {},
   "source": [
    "Gráfico 5 - Apesar de mais de 75% dos embarcados serem de classes mais baixas, foram os embarcados de 1ª classe com maior representatividade entre os sobreviventes."
   ]
  },
  {
   "cell_type": "markdown",
   "metadata": {},
   "source": [
    "Por Local de embarque"
   ]
  },
  {
   "cell_type": "code",
   "execution_count": 242,
   "metadata": {},
   "outputs": [
    {
     "data": {
      "image/png": "[encoded data removed]",
      "text/plain": [
       "<Figure size 432x288 with 1 Axes>"
      ]
     },
     "metadata": {
      "needs_background": "light"
     },
     "output_type": "display_data"
    }
   ],
   "source": [
    "#Utilizando a função de gráfico de barras, com opção count.\n",
    "# Como os dados de sobrevida estão mapeados em 0 ou 1, o count representará a contagem de todos os passageiros da amostra.\n",
    "\n",
    "#Gráfico 6 - Contagem de passageiros por local de embarque\n",
    "plotbar ('local','sobrevida','Passageiros por Local de Embarque',0, 'Local de Embarque' ,'Contagem de Pessoas')"
   ]
  },
  {
   "cell_type": "code",
   "execution_count": 243,
   "metadata": {
    "scrolled": true
   },
   "outputs": [
    {
     "data": {
      "image/png": "[encoded data removed]",
      "text/plain": [
       "<Figure size 432x288 with 1 Axes>"
      ]
     },
     "metadata": {
      "needs_background": "light"
     },
     "output_type": "display_data"
    }
   ],
   "source": [
    "#Utilizando a função de gráfico de barras com 3 colunas, com opção count.\n",
    "# Como os dados de sobrevida estão mapeados em 0 ou 1, o count representará a contagem de todos os passageiros da amostra.\n",
    "\n",
    "#Grafico 7 - Contagem de passageiros por local de embarque e classe\n",
    "plotbar3('local','classe','sobrevida','Passageiros por Classe por Local de Embarque',0, 'Local de Embarque' ,'Contagem de Pessoas')"
   ]
  },
  {
   "cell_type": "markdown",
   "metadata": {},
   "source": [
    "Gráfico 6 e 7 - As contagens agrupados por local de embarque (gráfico 6) e por local e classe (gráfico 7) nos \n",
    "mostra que Southampton foi o porto mais movimentado. E em Queenstown e Southamptom a predominancia de embarcados foi de 3ª classe.\n",
    "Já Cherbourg a predominância foi de 1ªclasse."
   ]
  },
  {
   "cell_type": "code",
   "execution_count": 244,
   "metadata": {},
   "outputs": [
    {
     "data": {
      "image/png": "[encoded data removed]",
      "text/plain": [
       "<Figure size 288x288 with 1 Axes>"
      ]
     },
     "metadata": {},
     "output_type": "display_data"
    }
   ],
   "source": [
    "#Utilizando a função de gráfico de pizza, com opção sum.\n",
    "# Como os dados de sobrevida estão mapeados em 0 ou 1, a soma representará a contagem dos sobreviventes apenas.\n",
    "\n",
    "#Grafico 8 - % de sobreviventes por local de embarque\n",
    "plotpie('local','sobrevida','Sobreviventes por Local de Embarque',1)"
   ]
  },
  {
   "cell_type": "markdown",
   "metadata": {},
   "source": [
    "Gráfico 8 - Relembrando que a maior parte dos sobreviventes foram de 1ªclasse (gráfico 5), é dedutível o porque os embarcados de Queenstown tem o menor (8,8%) % de sobreviventes, visto que sua maior de embarcados eram de 3ªclasse (gráfico 7)."
   ]
  },
  {
   "cell_type": "code",
   "execution_count": 245,
   "metadata": {},
   "outputs": [
    {
     "data": {
      "image/png": "[encoded data removed]",
      "text/plain": [
       "<Figure size 432x288 with 1 Axes>"
      ]
     },
     "metadata": {
      "needs_background": "light"
     },
     "output_type": "display_data"
    }
   ],
   "source": [
    "#Utilizando a função de gráfico de barras com 3 colunas, com opção count.\n",
    "# Como os dados de sobrevida estão mapeados em 0 ou 1, o count representará a contagem de todos os passageiros da amostra.\n",
    "\n",
    "#Grafico 9 - Contagem de passageiros por local de embarque e sobrevivência\n",
    "plotbar3('local','sobrevida','id_passageiro','Sobreviventes por Local de Embarque',0,'Local de Embarque' ,'Contagem de Pessoas')"
   ]
  },
  {
   "cell_type": "code",
   "execution_count": 246,
   "metadata": {},
   "outputs": [
    {
     "name": "stdout",
     "output_type": "stream",
     "text": [
      "local\n",
      "Cherbourg       93\n",
      "Queenstown      30\n",
      "Southampton    217\n",
      "Name: sobrevida, dtype: int64\n"
     ]
    }
   ],
   "source": [
    "print(df_tits.groupby('local')['sobrevida'].sum())"
   ]
  },
  {
   "cell_type": "markdown",
   "metadata": {},
   "source": [
    "Gráfico 9 - Devido a maior concentração de pessoas serem originais de Southampton(gráfico 6), proporcionalmente os embarcados de lá também apresentam maior % de sobreviventes."
   ]
  },
  {
   "cell_type": "code",
   "execution_count": 247,
   "metadata": {},
   "outputs": [
    {
     "data": {
      "image/png": "[encoded data removed]",
      "text/plain": [
       "<Figure size 432x288 with 1 Axes>"
      ]
     },
     "metadata": {
      "needs_background": "light"
     },
     "output_type": "display_data"
    }
   ],
   "source": [
    "#Utilizando a função de gráfico de barras com 3 colunas, com opção sum.\n",
    "# Como os dados de sobrevida estão mapeados em 0 ou 1, a soma representará a contagem dos sobreviventes apenas.\n",
    "\n",
    "#Grafico 10 - Contagem de sobreviventes por local de embarque e classe\n",
    "plotbar3('local','classe','sobrevida','Sobreviventes por Classe por Local de Embarque',1,'Local de Embarque' ,'Contagem de Pessoas')"
   ]
  },
  {
   "cell_type": "markdown",
   "metadata": {},
   "source": [
    "Gráfico 10 - Reforçando a análise do gráfico 5 e 6 , apesar da maior dos embarcados serem de 3ªclasse (gráfico 7), a maioria de sobreviventes são de 1ªClasse em Cherbourg e Southampton. O cenário é diferente para os que embarcaram em Queenstown, como também visto no gráfico 7, nesse porto praticamente não tivemos embarcados de 1ª classe."
   ]
  },
  {
   "cell_type": "code",
   "execution_count": 248,
   "metadata": {},
   "outputs": [
    {
     "data": {
      "image/png": "[encoded data removed]",
      "text/plain": [
       "<Figure size 432x288 with 1 Axes>"
      ]
     },
     "metadata": {
      "needs_background": "light"
     },
     "output_type": "display_data"
    }
   ],
   "source": [
    "#Utilizando a função de gráfico de barras com 3 colunas, com opção sum.\n",
    "# Como os dados de sobrevida estão mapeados em 0 ou 1, a soma representará a contagem dos sobreviventes apenas.\n",
    "\n",
    "#Grafico 11 - Contagem de sobreviventes por local de embarque e genero\n",
    "plotbar3('local','genero','sobrevida','Sobreviventes por Genero por Local de Embarque',1,'Local de Embarque' ,'Contagem de Pessoas')"
   ]
  },
  {
   "cell_type": "markdown",
   "metadata": {},
   "source": [
    "Com a leitura e comparações dos gráficos, podemos considerar que 1ª Classe foi a que mais sobreviveu independente do ponto de embarque. E as mulheres apresentam maior % de sobrevivência em todas as classes e locais de embarque.\n",
    "\n",
    "Entretanto a análise demonstra que os dados são insuficientes para conclusões concretas, visto que são inferências simples sobre dados de gênero, classe e local. Desta forma os trabalhos não geram dados suficientes para proposição sobre interferência da origem na probabilidade de sobrevivência. "
   ]
  },
  {
   "cell_type": "markdown",
   "metadata": {},
   "source": [
    "# Conclusões"
   ]
  },
  {
   "cell_type": "markdown",
   "metadata": {},
   "source": [
    "A análise dos dados cedido pela Kaggel, além de práticas de reorganização e visualização de dados usando Python,\n",
    "nos traz alguns viés sobre os passageiros do terrível acidente com o Titanic.\n",
    "\n",
    "Nessa análise podemos notar os seguintes pontos:\n",
    "    * Maior parte dos passageiros foram homens e de 3ª Classe\n",
    "    * O porto com maior nº de passeiros foi Southampton, e o porto com maior concentração de passageiros de 1ªClasse foi o de Cherbourg.\n",
    "    * As mulheres de 1ª Classe foram as que tiveram maior índice de sobrevivência.\n",
    "\n",
    "Respostas das questões propostas:\n",
    "1. Qual o % dos passageiros sobreviventes?\n",
    "    O percentual dos dados considerados foi de 38,2%\n",
    "    \n",
    "2. Qual o % de sobreviventes por local de embarque?\n",
    "    A distribuição de sobreviventes entre os locais de embarque foi de:\n",
    "        Southamptom 63,8%\n",
    "        Queenstown 8,8%\n",
    "        Cherbourg 27,4%\n",
    "\n",
    "3. Qual a distribuição de sobreviventes por gênero por local de embarque?\n",
    "    Através da análise da plotagem, é visível a maior presença das mulheres em todos os locais de embarque.\n",
    "\n",
    "4. Local de embarque influenciou na probabilidade de sobrevivência?\n",
    "    Não é conclusivo a inferência sobre o local de embarque na probabilidade de sobrevivência, sendo necessário um cruzamento \n",
    "mais detalhados de outros dados como 'classe', 'idade', posição das cabines, entre outros.\n",
    "    \n",
    "    \n",
    "Limitações\n",
    "\n",
    "Por se tratar de uma prática de estudos em data science I, as aplicações de funções e plotagens foi limitada aos\n",
    "exemplos práticados em sala de aula.\n",
    "\n",
    "A ausência de alguns dados, como 'Local de Embarque' e a opção de descarte desses dados, ou preenchimento por média no caso \n",
    "de dados de 'Idade', a acuracidade dos dados foi afetada.\n"
   ]
  }
 ],
 "metadata": {
  "kernelspec": {
   "display_name": "Python 3",
   "language": "python",
   "name": "python3"
  },
  "language_info": {
   "codemirror_mode": {
    "name": "ipython",
    "version": 3
   },
   "file_extension": ".py",
   "mimetype": "text/x-python",
   "name": "python",
   "nbconvert_exporter": "python",
   "pygments_lexer": "ipython3",
   "version": "3.7.0"
  }
 },
 "nbformat": 4,
 "nbformat_minor": 2
}
